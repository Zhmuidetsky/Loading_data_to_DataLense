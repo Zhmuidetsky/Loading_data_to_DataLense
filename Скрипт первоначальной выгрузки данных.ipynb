{
 "cells": [
  {
   "cell_type": "markdown",
   "id": "58bc2d55",
   "metadata": {},
   "source": [
    "# Вводная часть"
   ]
  },
  {
   "cell_type": "markdown",
   "id": "1579f9e4",
   "metadata": {},
   "source": [
    "## Импорт библиотек"
   ]
  },
  {
   "cell_type": "code",
   "execution_count": 1,
   "id": "aec3168c",
   "metadata": {},
   "outputs": [],
   "source": [
    "# перед началом работы импортируем библиотеки, которые могут понадобиться в работе над проектом\n",
    "\n",
    "import pandas as pd\n",
    "import math\n",
    "import numpy as np\n",
    "from matplotlib import pyplot as plt\n",
    "from scipy import stats as st\n",
    "import seaborn as sns\n",
    "import scipy.stats as stats\n",
    "import plotly.express as px\n",
    "import plotly.graph_objs as go\n",
    "from plotly.subplots import make_subplots\n",
    "import requests \n",
    "from urllib.parse import urlencode \n",
    "import re\n",
    "from calendar import day_name\n",
    "\n",
    "%matplotlib inline\n",
    "# импорт библиотеки подключения к яндекс-метрике\n",
    "from tapi_yandex_metrika import YandexMetrikaStats\n",
    "from pandas.io.json import json_normalize\n",
    "import json\n",
    "from requests_html import HTMLSession\n",
    "session = HTMLSession()\n",
    "from pandas import Series,DataFrame\n",
    "from io import BytesIO\n",
    "from time import sleep\n",
    "import sys"
   ]
  },
  {
   "cell_type": "code",
   "execution_count": 2,
   "id": "3ffebd3a",
   "metadata": {},
   "outputs": [],
   "source": [
    "# Метод для корректной обработки строк в кодировке UTF-8 как в Python 3, так и в Python 2\n",
    "if sys.version_info < (3,):\n",
    "    def u(x):\n",
    "        try:\n",
    "            return x.encode(\"utf8\")\n",
    "        except UnicodeDecodeError:\n",
    "            return x\n",
    "else:\n",
    "    def u(x):\n",
    "        if type(x) == type(b''):\n",
    "            return x.decode('utf8')\n",
    "        else:\n",
    "            return x"
   ]
  },
  {
   "cell_type": "markdown",
   "id": "012c14fe",
   "metadata": {},
   "source": [
    "## Функция загрузки данных"
   ]
  },
  {
   "cell_type": "code",
   "execution_count": 27,
   "id": "445b2f86",
   "metadata": {},
   "outputs": [],
   "source": [
    "def req_to_direct(URL, body, headers):   \n",
    "    # --- Запуск цикла для выполнения запросов ---\n",
    "    # Если получен HTTP-код 200, то выводится содержание отчета\n",
    "    # Если получен HTTP-код 201 или 202, выполняются повторные запросы\n",
    "    while True:\n",
    "        try:\n",
    "            req = requests.post(URL, body, headers=headers)\n",
    "            req.encoding = 'utf-8'  # Принудительная обработка ответа в кодировке UTF-8\n",
    "            if req.status_code == 400:\n",
    "                print(\"Параметры запроса указаны неверно или достигнут лимит отчетов в очереди\")\n",
    "                print(\"RequestId: {}\".format(req.headers.get(\"RequestId\", False)))\n",
    "                print(\"JSON-код запроса: {}\".format(u(body)))\n",
    "                print(\"JSON-код ответа сервера: \\n{}\".format(u(req.json())))\n",
    "                break\n",
    "            elif req.status_code == 200:\n",
    "                print(\"Отчет создан успешно\")\n",
    "                format(u(req.text))\n",
    "                return(req.text)\n",
    "                # return(req.content) если вдруг хотим в байтах выгрузить и преобразовывать\n",
    "                break\n",
    "            elif req.status_code == 201:\n",
    "                print(\"Отчет успешно поставлен в очередь в режиме офлайн\")\n",
    "                retryIn = int(req.headers.get(\"retryIn\", 60))\n",
    "                print(\"Повторная отправка запроса через {} секунд\".format(retryIn))\n",
    "                print(\"RequestId: {}\".format(req.headers.get(\"RequestId\", False)))\n",
    "                sleep(retryIn)\n",
    "            elif req.status_code == 202:\n",
    "                print(\"Отчет формируется в режиме офлайн\")\n",
    "                retryIn = int(req.headers.get(\"retryIn\", 60))\n",
    "                print(\"Повторная отправка запроса через {} секунд\".format(retryIn))\n",
    "                print(\"RequestId:  {}\".format(req.headers.get(\"RequestId\", False)))\n",
    "                sleep(retryIn)\n",
    "            elif req.status_code == 500:\n",
    "                print(\"При формировании отчета произошла ошибка. Пожалуйста, попробуйте повторить запрос позднее\")\n",
    "                print(\"RequestId: {}\".format(req.headers.get(\"RequestId\", False)))\n",
    "                print(\"JSON-код ответа сервера: \\n{}\".format(u(req.json())))\n",
    "                break\n",
    "            elif req.status_code == 502:\n",
    "                print(\"Время формирования отчета превысило серверное ограничение.\")\n",
    "                print(\"Пожалуйста, попробуйте изменить параметры запроса - уменьшить период и количество запрашиваемых данных.\")\n",
    "                print(\"JSON-код запроса: {}\".format(body))\n",
    "                print(\"RequestId: {}\".format(req.headers.get(\"RequestId\", False)))\n",
    "                print(\"JSON-код ответа сервера: \\n{}\".format(u(req.json())))\n",
    "                break\n",
    "            else:\n",
    "                print(\"Произошла непредвиденная ошибка\")\n",
    "                print(\"RequestId:  {}\".format(req.headers.get(\"RequestId\", False)))\n",
    "                print(\"JSON-код запроса: {}\".format(body))\n",
    "                print(\"JSON-код ответа сервера: \\n{}\".format(u(req.json())))\n",
    "                break\n",
    "\n",
    "        # Обработка ошибки, если не удалось соединиться с сервером API Директа\n",
    "        except ConnectionError:\n",
    "            # В данном случае мы рекомендуем повторить запрос позднее\n",
    "            print(\"Произошла ошибка соединения с сервером API\")\n",
    "            # Принудительный выход из цикла\n",
    "            break\n",
    "\n",
    "        # Если возникла какая-либо другая ошибка\n",
    "        except:\n",
    "            # В данном случае мы рекомендуем проанализировать действия приложения\n",
    "            print(\"Произошла непредвиденная ошибка\")\n",
    "            # Принудительный выход из цикла\n",
    "            break"
   ]
  },
  {
   "cell_type": "markdown",
   "id": "2b426367",
   "metadata": {},
   "source": [
    "# Запрос к директу"
   ]
  },
  {
   "cell_type": "markdown",
   "id": "9e45b4a0",
   "metadata": {},
   "source": [
    "## Токен доступа"
   ]
  },
  {
   "cell_type": "code",
   "execution_count": 32,
   "id": "b1a64f3b",
   "metadata": {},
   "outputs": [],
   "source": [
    "# токен доступа к директу\n",
    "ACCESS_TOKEN = \"ВАШ ТОКЕН\"\n",
    "\n",
    "ACCESS_TOKEN_EZ = \"ВАШ ТОКЕН\""
   ]
  },
  {
   "cell_type": "markdown",
   "id": "85121a87",
   "metadata": {},
   "source": [
    "## Параметры запроса"
   ]
  },
  {
   "cell_type": "code",
   "execution_count": 39,
   "id": "971ecddc",
   "metadata": {},
   "outputs": [],
   "source": [
    "# --- Входные данные ---\n",
    "# Адрес сервиса Reports для отправки JSON-запросов (регистрозависимый)\n",
    "ReportsURL = 'https://api.direct.yandex.com/json/v5/reports'\n",
    "\n",
    "#адрес сервиса ОТЧЕТОВ ПЕСОЧНИЦА\n",
    "ReportsURL_SANDBOX = 'https://api-sandbox.direct.yandex.com/json/v5/reports'\n",
    "\n",
    "# OAuth-токен пользователя, от имени которого будут выполняться запросы\n",
    "token = ACCESS_TOKEN_EZ\n",
    "\n",
    "# Логин клиента рекламного агентства\n",
    "# Обязательный параметр, если запросы выполняются от имени рекламного агентства\n",
    "clientLogin = 'evgeny.zhmuidetsky'\n",
    "\n",
    "#какие столбцы подгрузить\n",
    "# для дашборда необходимы дата, тип рекламной сети, показы, клики, стоимость, количество конверсий\n",
    "stolbec = [\"Date\", \"AdNetworkType\", \"Impressions\", \"Clicks\", \"Cost\", \"Conversions\"]\n",
    "\n",
    "\n",
    "#даты отчета\n",
    "StartDate = \"2022-06-20\"\n",
    "FinishDate = \"2023-02-12\"\n",
    "\n",
    "# --- Подготовка запроса ---\n",
    "# Создание HTTP-заголовков запроса\n",
    "headers = {\n",
    "           # OAuth-токен. Использование слова Bearer обязательно\n",
    "           \"Authorization\": \"Bearer \" + token,\n",
    "           # Логин клиента рекламного агентства\n",
    "           \"Client-Login\": clientLogin,\n",
    "           # Язык ответных сообщений\n",
    "           \"Accept-Language\": \"ru\",\n",
    "           # Режим формирования отчета\n",
    "           \"processingMode\": \"auto\",\n",
    "           # Формат денежных значений в отчете, если не сделать, то расходы будут в миллионах\n",
    "            \"returnMoneyInMicros\": \"false\",\n",
    "           # Не выводить в отчете строку с названием отчета и диапазоном дат\n",
    "           # \"skipReportHeader\": \"true\",\n",
    "           # Не выводить в отчете строку с названиями полей\n",
    "            #\"skipColumnHeader\": \"true\",\n",
    "           # Не выводить в отчете строку с количеством строк статистики\n",
    "            \"skipReportSummary\": \"true\"\n",
    "           }\n",
    "\n",
    "# Создание тела запроса\n",
    "body = {\n",
    "    \"params\": {\n",
    "        # критерии выбора, тут могут быть фильтры, логические операторы, \n",
    "        \"SelectionCriteria\": {\n",
    "            \"DateFrom\": StartDate,\n",
    "            \"DateTo\": FinishDate\n",
    "                             },\n",
    "        \n",
    "        \"FieldNames\": stolbec,\n",
    "        \"ReportName\": u(\"Отчет 98\"),\n",
    "        \"ReportType\": \"CUSTOM_REPORT\",   # тип отчета\n",
    "        \"DateRangeType\": \"CUSTOM_DATE\",\n",
    "        \"Format\": \"TSV\",  # обязательно\n",
    "        \"IncludeVAT\": \"YES\",\n",
    "        \"IncludeDiscount\": \"NO\"\n",
    "              }\n",
    "       }\n",
    "\n",
    "# Кодирование тела запроса в JSON\n",
    "body = json.dumps(body, indent=4)\n"
   ]
  },
  {
   "cell_type": "markdown",
   "id": "a80d5f20",
   "metadata": {},
   "source": [
    "## Запрос к директу"
   ]
  },
  {
   "cell_type": "code",
   "execution_count": 40,
   "id": "767bb468",
   "metadata": {},
   "outputs": [
    {
     "name": "stdout",
     "output_type": "stream",
     "text": [
      "Отчет успешно поставлен в очередь в режиме офлайн\n",
      "Повторная отправка запроса через 1 секунд\n",
      "RequestId: 7650561725448280190\n",
      "Отчет создан успешно\n"
     ]
    }
   ],
   "source": [
    "# запрос к данным директа\n",
    "result = req_to_direct(ReportsURL, body, headers)"
   ]
  },
  {
   "cell_type": "code",
   "execution_count": 41,
   "id": "514e3399",
   "metadata": {},
   "outputs": [
    {
     "data": {
      "text/plain": [
       "'\"Отчет 98 (2022-06-20 - 2023-02-12)\"\\nDate\\tAdNetworkType\\tImpressions\\tClicks\\tCost\\tConversions\\n2022-06-20\\tAD_NETWORK\\t491\\t3\\t33.84\\t--\\n2022-06-20\\tSEARCH\\t3\\t0\\t0.00\\t--\\n2022-06-21\\tAD_NETWORK\\t816\\t3\\t37.60\\t--\\n2022-06-21\\tSEARCH\\t7\\t0\\t0.00\\t--\\n2022-06-22\\tAD_NETWORK\\t1475\\t2\\t14.92\\t--\\n2022-06-22\\tSEARCH\\t7\\t1\\t146.24\\t--\\n2022-06-23\\tAD_NETWORK\\t1627\\t11\\t118.68\\t--\\n2022-06-23\\tSEARCH\\t9\\t1\\t116.42\\t--\\n2022-06-24\\tAD_NETWORK\\t967\\t4\\t69.08\\t--\\n2022-06-24\\tSEARCH\\t6\\t0\\t0.00\\t--\\n2022-06-25\\tAD_NETWORK\\t558\\t3\\t33.17\\t--\\n2022-06-25\\tSEARCH\\t21\\t2\\t186.27\\t2\\n2022-06-26\\tAD_NETWORK\\t726\\t3\\t17.71\\t--\\n2022-06-26\\tSEARCH\\t13\\t1\\t16.16\\t--\\n2022-06-27\\tAD_NETWORK\\t4155\\t39\\t436.61\\t--\\n2022-06-27\\tSEARCH\\t61\\t6\\t552.35\\t1\\n2022-06-28\\tAD_NETWORK\\t9828\\t69\\t898.26\\t--\\n2022-06-28\\tSEARCH\\t75\\t8\\t515.45\\t--\\n2022-06-29\\tAD_NETWORK\\t6678\\t57\\t650.84\\t1\\n2022-06-29\\tSEARCH\\t70\\t8\\t490.36\\t--\\n2022-06-30\\tAD_NETWORK\\t8323\\t62\\t984.40\\t1\\n2022-06-30\\tSEARCH\\t102\\t11\\t998.34\\t1\\n2022-07-01\\tAD_NETWORK\\t5854\\t52\\t902.92\\t4\\n2022-07-01\\tSEARCH\\t76\\t10\\t1314.33\\t--\\n2022-07-02\\tAD_NETWORK\\t4054\\t31\\t479.48\\t1\\n2022-07-02\\tSEARCH\\t49\\t7\\t805.46\\t--\\n2022-07-03\\tAD_NETWORK\\t638\\t4\\t39.90\\t--\\n2022-07-03\\tSEARCH\\t5\\t3\\t141.22\\t--\\n2022-07-04\\tAD_NETWORK\\t427\\t3\\t44.28\\t1\\n2022-07-04\\tSEARCH\\t80\\t13\\t1021.25\\t1\\n2022-07-05\\tAD_NETWORK\\t8973\\t44\\t879.68\\t1\\n2022-07-05\\tSEARCH\\t92\\t11\\t765.64\\t--\\n2022-07-06\\tAD_NETWORK\\t2233\\t12\\t216.90\\t--\\n2022-07-06\\tSEARCH\\t83\\t8\\t648.45\\t1\\n2022-07-07\\tAD_NETWORK\\t607\\t2\\t30.20\\t1\\n2022-07-07\\tSEARCH\\t70\\t7\\t451.34\\t--\\n2022-07-08\\tAD_NETWORK\\t355\\t0\\t0.00\\t--\\n2022-07-08\\tSEARCH\\t43\\t0\\t0.00\\t--\\n2022-07-09\\tAD_NETWORK\\t526\\t2\\t27.72\\t--\\n2022-07-09\\tSEARCH\\t43\\t3\\t251.59\\t--\\n2022-07-10\\tAD_NETWORK\\t459\\t2\\t38.96\\t--\\n2022-07-10\\tSEARCH\\t56\\t7\\t415.48\\t3\\n2022-07-11\\tAD_NETWORK\\t640\\t2\\t29.33\\t--\\n2022-07-11\\tSEARCH\\t91\\t9\\t883.80\\t--\\n2022-07-12\\tAD_NETWORK\\t562\\t6\\t113.72\\t--\\n2022-07-12\\tSEARCH\\t48\\t4\\t159.83\\t1\\n2022-07-13\\tAD_NETWORK\\t219\\t4\\t88.96\\t1\\n2022-07-13\\tSEARCH\\t63\\t6\\t554.14\\t--\\n2022-07-14\\tAD_NETWORK\\t195\\t1\\t4.22\\t--\\n2022-07-14\\tSEARCH\\t69\\t11\\t687.94\\t3\\n2022-07-15\\tAD_NETWORK\\t279\\t4\\t99.45\\t--\\n2022-07-15\\tSEARCH\\t39\\t3\\t371.43\\t--\\n2022-07-16\\tAD_NETWORK\\t350\\t3\\t43.42\\t--\\n2022-07-16\\tSEARCH\\t35\\t4\\t332.08\\t--\\n2022-07-17\\tAD_NETWORK\\t220\\t3\\t94.69\\t1\\n2022-07-17\\tSEARCH\\t35\\t4\\t355.27\\t1\\n2022-07-18\\tAD_NETWORK\\t191\\t2\\t33.15\\t--\\n2022-07-18\\tSEARCH\\t52\\t3\\t519.20\\t--\\n2022-07-19\\tAD_NETWORK\\t387\\t3\\t62.14\\t--\\n2022-07-19\\tSEARCH\\t69\\t4\\t404.13\\t--\\n2022-07-20\\tAD_NETWORK\\t370\\t2\\t27.56\\t1\\n2022-07-20\\tSEARCH\\t41\\t5\\t1155.49\\t1\\n2022-07-21\\tAD_NETWORK\\t164\\t2\\t43.67\\t1\\n2022-07-21\\tSEARCH\\t29\\t4\\t316.05\\t1\\n2022-07-22\\tAD_NETWORK\\t90\\t2\\t15.61\\t--\\n2022-07-22\\tSEARCH\\t41\\t3\\t327.40\\t--\\n2022-07-23\\tAD_NETWORK\\t57\\t0\\t0.00\\t--\\n2022-07-23\\tSEARCH\\t18\\t4\\t280.64\\t2\\n2022-07-24\\tAD_NETWORK\\t87\\t1\\t37.38\\t--\\n2022-07-24\\tSEARCH\\t21\\t1\\t123.85\\t--\\n2022-07-25\\tAD_NETWORK\\t46\\t0\\t0.00\\t--\\n2022-07-25\\tSEARCH\\t36\\t4\\t365.91\\t--\\n2022-07-26\\tAD_NETWORK\\t63\\t0\\t0.00\\t--\\n2022-07-26\\tSEARCH\\t44\\t7\\t487.50\\t3\\n2022-07-27\\tAD_NETWORK\\t53\\t0\\t0.00\\t--\\n2022-07-27\\tSEARCH\\t47\\t3\\t260.23\\t--\\n2022-07-28\\tAD_NETWORK\\t40\\t0\\t0.00\\t--\\n2022-07-28\\tSEARCH\\t41\\t2\\t91.56\\t1\\n2022-07-29\\tAD_NETWORK\\t59\\t0\\t0.00\\t--\\n2022-07-29\\tSEARCH\\t33\\t1\\t70.66\\t--\\n2022-07-30\\tAD_NETWORK\\t33\\t0\\t0.00\\t--\\n2022-07-30\\tSEARCH\\t25\\t5\\t383.57\\t--\\n2022-07-31\\tAD_NETWORK\\t158\\t1\\t8.86\\t--\\n2022-07-31\\tSEARCH\\t23\\t2\\t189.88\\t--\\n2022-08-01\\tAD_NETWORK\\t201\\t1\\t5.95\\t--\\n2022-08-01\\tSEARCH\\t69\\t7\\t750.98\\t1\\n2022-08-02\\tAD_NETWORK\\t683\\t2\\t39.92\\t--\\n2022-08-02\\tSEARCH\\t49\\t7\\t1368.76\\t1\\n2022-08-03\\tAD_NETWORK\\t333\\t1\\t9.94\\t--\\n2022-08-03\\tSEARCH\\t64\\t5\\t531.99\\t--\\n2022-08-04\\tAD_NETWORK\\t496\\t4\\t62.74\\t--\\n2022-08-04\\tSEARCH\\t54\\t8\\t580.20\\t--\\n2022-08-05\\tAD_NETWORK\\t565\\t1\\t17.88\\t--\\n2022-08-05\\tSEARCH\\t44\\t3\\t187.54\\t--\\n2022-08-06\\tAD_NETWORK\\t322\\t4\\t97.40\\t--\\n2022-08-06\\tSEARCH\\t32\\t3\\t336.49\\t--\\n2022-08-07\\tAD_NETWORK\\t67\\t1\\t21.79\\t--\\n2022-08-07\\tSEARCH\\t28\\t0\\t0.00\\t--\\n2022-08-08\\tAD_NETWORK\\t149\\t0\\t0.00\\t--\\n2022-08-08\\tSEARCH\\t59\\t6\\t330.98\\t2\\n2022-08-09\\tAD_NETWORK\\t1207\\t4\\t44.43\\t--\\n2022-08-09\\tSEARCH\\t82\\t9\\t1819.73\\t4\\n2022-08-10\\tAD_NETWORK\\t8864\\t66\\t794.40\\t--\\n2022-08-10\\tSEARCH\\t87\\t10\\t1599.56\\t2\\n2022-08-11\\tAD_NETWORK\\t8027\\t77\\t780.00\\t--\\n2022-08-11\\tSEARCH\\t52\\t4\\t486.22\\t--\\n2022-08-12\\tAD_NETWORK\\t4710\\t43\\t510.29\\t--\\n2022-08-12\\tSEARCH\\t59\\t8\\t1054.65\\t1\\n2022-08-13\\tAD_NETWORK\\t2406\\t34\\t370.63\\t2\\n2022-08-13\\tSEARCH\\t29\\t2\\t174.17\\t1\\n2022-08-14\\tAD_NETWORK\\t1123\\t34\\t267.41\\t1\\n2022-08-14\\tSEARCH\\t28\\t4\\t477.59\\t--\\n2022-08-15\\tAD_NETWORK\\t2545\\t47\\t444.41\\t1\\n2022-08-15\\tSEARCH\\t43\\t6\\t1020.53\\t2\\n2022-08-16\\tAD_NETWORK\\t2612\\t33\\t468.51\\t1\\n2022-08-16\\tSEARCH\\t42\\t9\\t811.95\\t1\\n2022-08-17\\tAD_NETWORK\\t1868\\t15\\t216.03\\t--\\n2022-08-17\\tSEARCH\\t28\\t4\\t496.30\\t1\\n2022-08-18\\tAD_NETWORK\\t7\\t1\\t3.69\\t--\\n2022-08-19\\tAD_NETWORK\\t830\\t2\\t32.00\\t1\\n2022-08-19\\tSEARCH\\t19\\t3\\t485.57\\t--\\n2022-08-20\\tAD_NETWORK\\t797\\t2\\t40.10\\t--\\n2022-08-20\\tSEARCH\\t41\\t6\\t789.71\\t1\\n2022-08-21\\tAD_NETWORK\\t594\\t1\\t0.00\\t--\\n2022-08-21\\tSEARCH\\t29\\t3\\t322.10\\t1\\n2022-08-22\\tAD_NETWORK\\t672\\t2\\t57.50\\t--\\n2022-08-22\\tSEARCH\\t83\\t12\\t1855.03\\t5\\n2022-08-23\\tAD_NETWORK\\t760\\t1\\t0.00\\t--\\n2022-08-23\\tSEARCH\\t80\\t6\\t672.76\\t1\\n2022-08-24\\tAD_NETWORK\\t543\\t3\\t74.67\\t--\\n2022-08-24\\tSEARCH\\t60\\t9\\t1000.26\\t--\\n2022-08-25\\tAD_NETWORK\\t302\\t0\\t0.00\\t--\\n2022-08-25\\tSEARCH\\t72\\t7\\t633.78\\t1\\n2022-08-26\\tAD_NETWORK\\t1027\\t4\\t33.07\\t--\\n2022-08-26\\tSEARCH\\t67\\t9\\t2097.56\\t1\\n2022-08-27\\tAD_NETWORK\\t173\\t0\\t0.00\\t--\\n2022-08-27\\tSEARCH\\t17\\t0\\t0.00\\t--\\n2022-08-28\\tAD_NETWORK\\t636\\t0\\t0.00\\t--\\n2022-08-28\\tSEARCH\\t24\\t3\\t434.01\\t--\\n2022-08-29\\tAD_NETWORK\\t291\\t1\\t37.14\\t--\\n2022-08-29\\tSEARCH\\t19\\t7\\t1433.19\\t1\\n2022-08-30\\tAD_NETWORK\\t145\\t0\\t0.00\\t--\\n2022-08-30\\tSEARCH\\t4\\t0\\t0.00\\t--\\n2022-08-31\\tAD_NETWORK\\t1950\\t4\\t840.00\\t3\\n2022-08-31\\tSEARCH\\t82\\t10\\t2178.98\\t1\\n2022-09-01\\tAD_NETWORK\\t1711\\t4\\t0.00\\t--\\n2022-09-01\\tSEARCH\\t73\\t8\\t1315.05\\t1\\n2022-09-02\\tAD_NETWORK\\t721\\t4\\t90.92\\t--\\n2022-09-02\\tSEARCH\\t46\\t9\\t1329.50\\t2\\n2022-09-03\\tAD_NETWORK\\t426\\t1\\t0.00\\t--\\n2022-09-03\\tSEARCH\\t36\\t8\\t977.54\\t3\\n2022-09-04\\tAD_NETWORK\\t431\\t2\\t0.00\\t--\\n2022-09-04\\tSEARCH\\t25\\t6\\t464.83\\t2\\n2022-09-05\\tAD_NETWORK\\t659\\t1\\t0.00\\t--\\n2022-09-05\\tSEARCH\\t66\\t5\\t640.65\\t1\\n2022-09-06\\tAD_NETWORK\\t2095\\t12\\t123.66\\t--\\n2022-09-06\\tSEARCH\\t71\\t8\\t1033.38\\t1\\n2022-09-07\\tAD_NETWORK\\t729\\t4\\t30.70\\t--\\n2022-09-07\\tSEARCH\\t41\\t7\\t846.37\\t--\\n2022-09-08\\tAD_NETWORK\\t706\\t3\\t33.20\\t--\\n2022-09-08\\tSEARCH\\t60\\t5\\t665.30\\t2\\n2022-09-09\\tAD_NETWORK\\t2114\\t2\\t0.00\\t--\\n2022-09-09\\tSEARCH\\t56\\t3\\t243.26\\t1\\n2022-09-10\\tAD_NETWORK\\t834\\t3\\t0.00\\t--\\n2022-09-10\\tSEARCH\\t33\\t4\\t392.73\\t--\\n2022-09-11\\tAD_NETWORK\\t1085\\t4\\t0.00\\t--\\n2022-09-11\\tSEARCH\\t24\\t1\\t116.55\\t--\\n2022-09-12\\tAD_NETWORK\\t2219\\t5\\t0.00\\t--\\n2022-09-12\\tSEARCH\\t81\\t3\\t205.75\\t--\\n2022-09-13\\tAD_NETWORK\\t5024\\t7\\t53.60\\t2\\n2022-09-13\\tSEARCH\\t143\\t14\\t3235.59\\t3\\n2022-09-14\\tAD_NETWORK\\t3608\\t9\\t0.00\\t--\\n2022-09-14\\tSEARCH\\t149\\t17\\t1294.44\\t1\\n2022-09-15\\tAD_NETWORK\\t4384\\t10\\t0.00\\t--\\n2022-09-15\\tSEARCH\\t186\\t14\\t3466.15\\t2\\n2022-09-16\\tAD_NETWORK\\t6984\\t7\\t32.97\\t--\\n2022-09-16\\tSEARCH\\t168\\t12\\t2113.86\\t--\\n2022-09-17\\tAD_NETWORK\\t2437\\t7\\t33.98\\t--\\n2022-09-17\\tSEARCH\\t74\\t6\\t119.40\\t--\\n2022-09-18\\tAD_NETWORK\\t1066\\t3\\t0.00\\t--\\n2022-09-18\\tSEARCH\\t39\\t4\\t221.44\\t--\\n2022-09-19\\tAD_NETWORK\\t2192\\t5\\t0.00\\t1\\n2022-09-19\\tSEARCH\\t158\\t24\\t3067.37\\t5\\n2022-09-20\\tAD_NETWORK\\t2294\\t4\\t0.00\\t1\\n2022-09-20\\tSEARCH\\t143\\t19\\t6300.97\\t2\\n2022-09-21\\tAD_NETWORK\\t22789\\t18\\t0.00\\t--\\n2022-09-21\\tSEARCH\\t148\\t14\\t3773.78\\t2\\n2022-09-22\\tAD_NETWORK\\t16475\\t22\\t0.00\\t2\\n2022-09-22\\tSEARCH\\t109\\t12\\t3524.79\\t4\\n2022-09-23\\tAD_NETWORK\\t17649\\t10\\t0.00\\t--\\n2022-09-23\\tSEARCH\\t55\\t8\\t997.65\\t1\\n2022-09-24\\tAD_NETWORK\\t17350\\t30\\t0.00\\t--\\n2022-09-24\\tSEARCH\\t31\\t3\\t0.00\\t--\\n2022-09-25\\tAD_NETWORK\\t1518\\t4\\t0.00\\t--\\n2022-09-25\\tSEARCH\\t9\\t1\\t0.00\\t--\\n2022-09-26\\tAD_NETWORK\\t1244\\t0\\t0.00\\t--\\n2022-09-26\\tSEARCH\\t132\\t19\\t3144.60\\t7\\n2022-09-27\\tAD_NETWORK\\t1332\\t1\\t0.00\\t--\\n2022-09-27\\tSEARCH\\t124\\t9\\t2442.48\\t--\\n2022-09-28\\tAD_NETWORK\\t1828\\t2\\t15.01\\t--\\n2022-09-28\\tSEARCH\\t116\\t19\\t3625.18\\t8\\n2022-09-29\\tAD_NETWORK\\t2183\\t6\\t0.00\\t--\\n2022-09-29\\tSEARCH\\t109\\t9\\t1453.21\\t--\\n2022-09-30\\tAD_NETWORK\\t950\\t4\\t56.03\\t1\\n2022-09-30\\tSEARCH\\t82\\t7\\t612.15\\t1\\n2022-10-01\\tAD_NETWORK\\t45\\t0\\t0.00\\t--\\n2022-10-01\\tSEARCH\\t2\\t0\\t0.00\\t--\\n2022-10-02\\tAD_NETWORK\\t16263\\t32\\t0.00\\t2\\n2022-10-02\\tSEARCH\\t16\\t1\\t0.00\\t--\\n2022-10-03\\tAD_NETWORK\\t31860\\t37\\t2160.00\\t1\\n2022-10-03\\tSEARCH\\t166\\t20\\t2344.92\\t4\\n2022-10-04\\tAD_NETWORK\\t26999\\t24\\t458.03\\t1\\n2022-10-04\\tSEARCH\\t123\\t9\\t2223.17\\t1\\n2022-10-05\\tAD_NETWORK\\t58770\\t59\\t0.00\\t2\\n2022-10-05\\tSEARCH\\t125\\t16\\t2763.11\\t4\\n2022-10-06\\tAD_NETWORK\\t5049\\t11\\t4320.00\\t2\\n2022-10-06\\tSEARCH\\t103\\t14\\t2691.23\\t3\\n2022-10-07\\tAD_NETWORK\\t3050\\t5\\t27.91\\t--\\n2022-10-07\\tSEARCH\\t53\\t7\\t887.87\\t--\\n2022-10-10\\tAD_NETWORK\\t50847\\t76\\t36.75\\t6\\n2022-10-10\\tSEARCH\\t85\\t13\\t1965.89\\t1\\n2022-10-11\\tAD_NETWORK\\t47413\\t62\\t0.00\\t2\\n2022-10-11\\tSEARCH\\t160\\t16\\t1735.80\\t3\\n2022-10-12\\tAD_NETWORK\\t1320\\t7\\t203.86\\t--\\n2022-10-12\\tSEARCH\\t93\\t12\\t2356.36\\t2\\n2022-10-13\\tAD_NETWORK\\t16308\\t23\\t0.00\\t1\\n2022-10-13\\tSEARCH\\t130\\t18\\t4189.48\\t6\\n2022-10-14\\tAD_NETWORK\\t5113\\t4\\t2175.16\\t1\\n2022-10-14\\tSEARCH\\t108\\t11\\t983.40\\t1\\n2022-10-15\\tAD_NETWORK\\t172\\t0\\t0.00\\t--\\n2022-10-15\\tSEARCH\\t14\\t0\\t0.00\\t--\\n2022-10-16\\tAD_NETWORK\\t30984\\t71\\t0.00\\t2\\n2022-10-16\\tSEARCH\\t4\\t0\\t0.00\\t--\\n2022-10-17\\tAD_NETWORK\\t69550\\t43\\t0.00\\t4\\n2022-10-17\\tSEARCH\\t177\\t12\\t3695.76\\t4\\n2022-10-18\\tAD_NETWORK\\t3409\\t5\\t40.61\\t--\\n2022-10-18\\tSEARCH\\t108\\t11\\t1890.48\\t2\\n2022-10-19\\tAD_NETWORK\\t800\\t3\\t0.00\\t--\\n2022-10-19\\tSEARCH\\t134\\t17\\t2859.99\\t4\\n2022-10-20\\tAD_NETWORK\\t999\\t6\\t0.00\\t--\\n2022-10-20\\tSEARCH\\t79\\t6\\t1009.54\\t2\\n2022-10-21\\tAD_NETWORK\\t1640\\t3\\t2196.64\\t--\\n2022-10-21\\tSEARCH\\t94\\t4\\t892.39\\t--\\n2022-10-22\\tAD_NETWORK\\t17419\\t47\\t0.00\\t1\\n2022-10-22\\tSEARCH\\t17\\t1\\t0.00\\t--\\n2022-10-23\\tAD_NETWORK\\t2943\\t9\\t0.00\\t2\\n2022-10-23\\tSEARCH\\t9\\t0\\t0.00\\t--\\n2022-10-24\\tAD_NETWORK\\t16134\\t36\\t55.21\\t--\\n2022-10-24\\tSEARCH\\t115\\t16\\t2745.20\\t2\\n2022-10-25\\tAD_NETWORK\\t2063\\t9\\t72.41\\t--\\n2022-10-25\\tSEARCH\\t85\\t12\\t1397.72\\t3\\n2022-10-26\\tAD_NETWORK\\t1895\\t11\\t45.35\\t--\\n2022-10-26\\tSEARCH\\t83\\t11\\t2256.14\\t1\\n2022-10-27\\tAD_NETWORK\\t1587\\t4\\t0.00\\t1\\n2022-10-27\\tSEARCH\\t110\\t16\\t3131.05\\t1\\n2022-10-28\\tAD_NETWORK\\t9589\\t13\\t0.00\\t--\\n2022-10-28\\tSEARCH\\t90\\t8\\t915.44\\t1\\n2022-10-29\\tAD_NETWORK\\t2410\\t6\\t0.00\\t--\\n2022-10-29\\tSEARCH\\t9\\t1\\t0.00\\t--\\n2022-10-30\\tAD_NETWORK\\t362\\t4\\t0.00\\t1\\n2022-10-30\\tSEARCH\\t9\\t0\\t0.00\\t--\\n2022-10-31\\tAD_NETWORK\\t1836\\t3\\t2160.00\\t2\\n2022-10-31\\tSEARCH\\t130\\t14\\t2336.61\\t2\\n2022-11-01\\tAD_NETWORK\\t37354\\t51\\t14.64\\t1\\n2022-11-01\\tSEARCH\\t151\\t17\\t5912.78\\t1\\n2022-11-02\\tAD_NETWORK\\t8462\\t9\\t25.03\\t--\\n2022-11-02\\tSEARCH\\t98\\t10\\t1256.45\\t1\\n2022-11-03\\tAD_NETWORK\\t1564\\t4\\t76.48\\t--\\n2022-11-03\\tSEARCH\\t108\\t9\\t1049.66\\t--\\n2022-11-04\\tAD_NETWORK\\t440\\t1\\t0.00\\t--\\n2022-11-04\\tSEARCH\\t29\\t2\\t168.47\\t--\\n2022-11-05\\tAD_NETWORK\\t11850\\t20\\t0.00\\t--\\n2022-11-05\\tSEARCH\\t11\\t0\\t0.00\\t--\\n2022-11-06\\tAD_NETWORK\\t1164\\t5\\t0.00\\t--\\n2022-11-06\\tSEARCH\\t7\\t1\\t0.00\\t--\\n2022-11-07\\tAD_NETWORK\\t2375\\t3\\t26.97\\t--\\n2022-11-07\\tSEARCH\\t110\\t11\\t2164.16\\t2\\n2022-11-08\\tAD_NETWORK\\t1273\\t4\\t2160.00\\t1\\n2022-11-08\\tSEARCH\\t98\\t14\\t2452.89\\t4\\n2022-11-09\\tAD_NETWORK\\t4681\\t18\\t71.20\\t--\\n2022-11-09\\tSEARCH\\t71\\t13\\t2314.06\\t2\\n2022-11-10\\tAD_NETWORK\\t6763\\t12\\t0.00\\t1\\n2022-11-10\\tSEARCH\\t83\\t11\\t1843.10\\t1\\n2022-11-11\\tAD_NETWORK\\t1208\\t3\\t43.33\\t--\\n2022-11-11\\tSEARCH\\t64\\t2\\t2160.00\\t2\\n2022-11-12\\tAD_NETWORK\\t280\\t0\\t0.00\\t--\\n2022-11-12\\tSEARCH\\t5\\t0\\t0.00\\t--\\n2022-11-13\\tAD_NETWORK\\t9423\\t28\\t0.00\\t--\\n2022-11-13\\tSEARCH\\t11\\t0\\t0.00\\t--\\n2022-11-14\\tAD_NETWORK\\t3765\\t13\\t227.03\\t--\\n2022-11-14\\tSEARCH\\t120\\t11\\t2027.60\\t1\\n2022-11-15\\tAD_NETWORK\\t770\\t1\\t22.52\\t--\\n2022-11-15\\tSEARCH\\t105\\t11\\t2718.58\\t1\\n2022-11-16\\tAD_NETWORK\\t754\\t3\\t0.00\\t--\\n2022-11-16\\tSEARCH\\t121\\t10\\t1995.10\\t1\\n2022-11-17\\tAD_NETWORK\\t3523\\t16\\t0.00\\t1\\n2022-11-17\\tSEARCH\\t116\\t11\\t1914.51\\t3\\n2022-11-18\\tAD_NETWORK\\t326\\t1\\t0.00\\t--\\n2022-11-18\\tSEARCH\\t80\\t9\\t1884.34\\t3\\n2022-11-19\\tAD_NETWORK\\t7814\\t17\\t0.00\\t--\\n2022-11-19\\tSEARCH\\t38\\t2\\t175.66\\t--\\n2022-11-20\\tAD_NETWORK\\t1610\\t4\\t0.00\\t--\\n2022-11-20\\tSEARCH\\t39\\t0\\t0.00\\t--\\n2022-11-21\\tAD_NETWORK\\t2507\\t5\\t14.38\\t--\\n2022-11-21\\tSEARCH\\t117\\t8\\t1903.98\\t2\\n2022-11-22\\tAD_NETWORK\\t1083\\t1\\t0.00\\t--\\n2022-11-22\\tSEARCH\\t137\\t11\\t1124.57\\t3\\n2022-11-23\\tAD_NETWORK\\t435\\t1\\t0.00\\t1\\n2022-11-23\\tSEARCH\\t74\\t9\\t1468.49\\t2\\n2022-11-24\\tAD_NETWORK\\t46814\\t62\\t30.41\\t3\\n2022-11-24\\tSEARCH\\t132\\t14\\t1542.48\\t1\\n2022-11-25\\tAD_NETWORK\\t2040\\t5\\t0.00\\t--\\n2022-11-25\\tSEARCH\\t83\\t7\\t2097.22\\t2\\n2022-11-26\\tAD_NETWORK\\t36\\t0\\t0.00\\t--\\n2022-11-26\\tSEARCH\\t6\\t0\\t0.00\\t--\\n2022-11-27\\tAD_NETWORK\\t9391\\t17\\t0.00\\t--\\n2022-11-27\\tSEARCH\\t29\\t1\\t0.00\\t--\\n2022-11-28\\tAD_NETWORK\\t3969\\t5\\t0.00\\t--\\n2022-11-28\\tSEARCH\\t148\\t21\\t2964.71\\t2\\n2022-11-29\\tAD_NETWORK\\t475\\t0\\t0.00\\t--\\n2022-11-29\\tSEARCH\\t131\\t14\\t10258.14\\t4\\n2022-11-30\\tAD_NETWORK\\t18898\\t53\\t840.00\\t3\\n2022-11-30\\tSEARCH\\t179\\t19\\t2770.03\\t4\\n2022-12-01\\tAD_NETWORK\\t4634\\t15\\t0.00\\t--\\n2022-12-01\\tSEARCH\\t155\\t8\\t1067.90\\t3\\n2022-12-02\\tAD_NETWORK\\t59432\\t410\\t24433.88\\t6\\n2022-12-02\\tSEARCH\\t36\\t1\\t0.00\\t--\\n2022-12-03\\tAD_NETWORK\\t395\\t1\\t0.00\\t--\\n2022-12-03\\tSEARCH\\t25\\t3\\t0.00\\t--\\n2022-12-04\\tAD_NETWORK\\t26\\t1\\t0.00\\t--\\n2022-12-04\\tSEARCH\\t11\\t0\\t0.00\\t--\\n2022-12-05\\tAD_NETWORK\\t5733\\t6\\t0.00\\t--\\n2022-12-05\\tSEARCH\\t140\\t18\\t2971.45\\t4\\n2022-12-06\\tAD_NETWORK\\t3015\\t7\\t2160.00\\t--\\n2022-12-06\\tSEARCH\\t122\\t6\\t1130.73\\t1\\n2022-12-07\\tAD_NETWORK\\t1163\\t1\\t0.00\\t--\\n2022-12-07\\tSEARCH\\t99\\t6\\t1990.63\\t1\\n2022-12-08\\tAD_NETWORK\\t29198\\t71\\t10440.00\\t4\\n2022-12-08\\tSEARCH\\t151\\t14\\t1679.05\\t1\\n2022-12-09\\tAD_NETWORK\\t30645\\t100\\t2208.30\\t9\\n2022-12-09\\tSEARCH\\t131\\t7\\t1275.86\\t1\\n2022-12-10\\tAD_NETWORK\\t3069\\t7\\t0.00\\t--\\n2022-12-10\\tSEARCH\\t49\\t1\\t2160.00\\t1\\n2022-12-11\\tAD_NETWORK\\t1740\\t4\\t0.00\\t--\\n2022-12-11\\tSEARCH\\t34\\t1\\t0.00\\t--\\n2022-12-12\\tAD_NETWORK\\t19403\\t105\\t4370.89\\t10\\n2022-12-12\\tSEARCH\\t212\\t23\\t6507.21\\t4\\n2022-12-13\\tAD_NETWORK\\t6702\\t45\\t2241.53\\t4\\n2022-12-13\\tSEARCH\\t96\\t13\\t1092.67\\t--\\n2022-12-14\\tAD_NETWORK\\t17090\\t114\\t963.07\\t8\\n2022-12-14\\tSEARCH\\t106\\t8\\t973.67\\t--\\n2022-12-15\\tAD_NETWORK\\t11907\\t67\\t1134.09\\t1\\n2022-12-15\\tSEARCH\\t72\\t6\\t962.19\\t--\\n2022-12-16\\tAD_NETWORK\\t1514\\t24\\t690.74\\t--\\n2022-12-16\\tSEARCH\\t73\\t4\\t745.09\\t1\\n2022-12-17\\tAD_NETWORK\\t7529\\t72\\t0.00\\t--\\n2022-12-17\\tSEARCH\\t16\\t0\\t0.00\\t--\\n2022-12-18\\tAD_NETWORK\\t9364\\t107\\t0.00\\t1\\n2022-12-18\\tSEARCH\\t22\\t1\\t0.00\\t--\\n2022-12-19\\tAD_NETWORK\\t8844\\t68\\t58.40\\t--\\n2022-12-19\\tSEARCH\\t54\\t3\\t747.69\\t2\\n2022-12-20\\tAD_NETWORK\\t4053\\t50\\t1340.39\\t2\\n2022-12-20\\tSEARCH\\t87\\t13\\t1334.57\\t2\\n2022-12-21\\tAD_NETWORK\\t8426\\t99\\t1241.04\\t4\\n2022-12-21\\tSEARCH\\t70\\t8\\t1942.91\\t--\\n2022-12-22\\tAD_NETWORK\\t325\\t2\\t15.99\\t2\\n2022-12-22\\tSEARCH\\t85\\t5\\t903.64\\t1\\n2022-12-23\\tAD_NETWORK\\t208\\t2\\t31.34\\t--\\n2022-12-23\\tSEARCH\\t57\\t5\\t934.60\\t2\\n2022-12-24\\tAD_NETWORK\\t4\\t0\\t0.00\\t--\\n2022-12-24\\tSEARCH\\t22\\t0\\t0.00\\t--\\n2022-12-25\\tAD_NETWORK\\t7443\\t108\\t0.00\\t3\\n2022-12-25\\tSEARCH\\t17\\t2\\t0.00\\t--\\n2022-12-26\\tAD_NETWORK\\t3538\\t30\\t840.00\\t3\\n2022-12-26\\tSEARCH\\t96\\t7\\t521.98\\t2\\n2022-12-27\\tAD_NETWORK\\t523\\t0\\t0.00\\t--\\n2022-12-27\\tSEARCH\\t71\\t5\\t1071.88\\t1\\n2022-12-28\\tAD_NETWORK\\t10187\\t55\\t0.00\\t--\\n2022-12-28\\tSEARCH\\t62\\t4\\t550.79\\t--\\n2022-12-29\\tAD_NETWORK\\t2757\\t23\\t49.12\\t--\\n2022-12-29\\tSEARCH\\t106\\t6\\t974.07\\t1\\n2022-12-30\\tAD_NETWORK\\t143\\t0\\t0.00\\t--\\n2022-12-30\\tSEARCH\\t31\\t2\\t863.42\\t--\\n2023-01-09\\tAD_NETWORK\\t22879\\t76\\t0.00\\t1\\n2023-01-09\\tSEARCH\\t15\\t0\\t0.00\\t--\\n2023-01-10\\tAD_NETWORK\\t7411\\t64\\t25.09\\t5\\n2023-01-10\\tSEARCH\\t57\\t0\\t0.00\\t--\\n2023-01-11\\tAD_NETWORK\\t938\\t2\\t35.82\\t--\\n2023-01-11\\tSEARCH\\t133\\t12\\t2115.88\\t1\\n2023-01-12\\tAD_NETWORK\\t627\\t0\\t0.00\\t--\\n2023-01-12\\tSEARCH\\t102\\t19\\t3453.76\\t2\\n2023-01-13\\tAD_NETWORK\\t860\\t1\\t47.14\\t--\\n2023-01-13\\tSEARCH\\t74\\t11\\t2523.70\\t--\\n2023-01-14\\tAD_NETWORK\\t3\\t0\\t0.00\\t--\\n2023-01-14\\tSEARCH\\t12\\t0\\t0.00\\t--\\n2023-01-15\\tAD_NETWORK\\t2603\\t27\\t2160.00\\t1\\n2023-01-15\\tSEARCH\\t42\\t0\\t0.00\\t--\\n2023-01-16\\tAD_NETWORK\\t7289\\t15\\t6.50\\t--\\n2023-01-16\\tSEARCH\\t88\\t7\\t2051.11\\t2\\n2023-01-17\\tAD_NETWORK\\t10207\\t27\\t239.68\\t2\\n2023-01-17\\tSEARCH\\t119\\t8\\t1174.82\\t--\\n2023-01-18\\tAD_NETWORK\\t3604\\t11\\t97.93\\t--\\n2023-01-18\\tSEARCH\\t112\\t14\\t2285.75\\t1\\n2023-01-19\\tAD_NETWORK\\t148\\t2\\t42.14\\t1\\n2023-01-19\\tSEARCH\\t79\\t15\\t3633.93\\t2\\n2023-01-20\\tAD_NETWORK\\t20620\\t64\\t2182.55\\t6\\n2023-01-20\\tSEARCH\\t98\\t7\\t981.54\\t1\\n2023-01-21\\tAD_NETWORK\\t2421\\t22\\t0.00\\t--\\n2023-01-21\\tSEARCH\\t44\\t2\\t0.00\\t--\\n2023-01-22\\tAD_NETWORK\\t455\\t7\\t0.00\\t--\\n2023-01-22\\tSEARCH\\t33\\t2\\t0.00\\t--\\n2023-01-23\\tAD_NETWORK\\t2113\\t8\\t0.00\\t--\\n2023-01-23\\tSEARCH\\t75\\t11\\t2975.27\\t1\\n2023-01-24\\tAD_NETWORK\\t3662\\t2\\t0.00\\t1\\n2023-01-24\\tSEARCH\\t58\\t11\\t2810.07\\t3\\n2023-01-25\\tAD_NETWORK\\t1083\\t1\\t14.60\\t--\\n2023-01-25\\tSEARCH\\t98\\t10\\t3159.54\\t2\\n2023-01-26\\tAD_NETWORK\\t12466\\t25\\t56.02\\t1\\n2023-01-26\\tSEARCH\\t101\\t6\\t540.26\\t1\\n2023-01-27\\tAD_NETWORK\\t4245\\t12\\t460.67\\t--\\n2023-01-27\\tSEARCH\\t63\\t2\\t250.90\\t--\\n2023-01-28\\tAD_NETWORK\\t9\\t0\\t0.00\\t--\\n2023-01-28\\tSEARCH\\t4\\t0\\t0.00\\t--\\n2023-01-29\\tAD_NETWORK\\t370\\t10\\t0.00\\t2\\n2023-01-29\\tSEARCH\\t6\\t1\\t0.00\\t--\\n2023-01-30\\tAD_NETWORK\\t5306\\t15\\t45.41\\t1\\n2023-01-30\\tSEARCH\\t114\\t6\\t548.78\\t2\\n2023-01-31\\tAD_NETWORK\\t1080\\t4\\t77.09\\t--\\n2023-01-31\\tSEARCH\\t96\\t11\\t4798.20\\t2\\n2023-02-01\\tAD_NETWORK\\t1086\\t4\\t148.38\\t--\\n2023-02-01\\tSEARCH\\t70\\t2\\t252.61\\t--\\n2023-02-02\\tAD_NETWORK\\t14753\\t51\\t120.00\\t1\\n2023-02-02\\tSEARCH\\t94\\t8\\t971.91\\t--\\n2023-02-03\\tAD_NETWORK\\t7472\\t32\\t2404.82\\t2\\n2023-02-03\\tSEARCH\\t83\\t2\\t0.00\\t--\\n2023-02-04\\tAD_NETWORK\\t885\\t6\\t0.00\\t--\\n2023-02-04\\tSEARCH\\t10\\t0\\t0.00\\t--\\n2023-02-05\\tAD_NETWORK\\t1\\t0\\t0.00\\t--\\n2023-02-06\\tAD_NETWORK\\t17346\\t71\\t63.66\\t1\\n2023-02-06\\tSEARCH\\t52\\t2\\t207.61\\t--\\n2023-02-07\\tAD_NETWORK\\t10500\\t34\\t125.09\\t--\\n2023-02-07\\tSEARCH\\t108\\t6\\t504.72\\t1\\n2023-02-08\\tAD_NETWORK\\t2724\\t4\\t128.87\\t2\\n2023-02-08\\tSEARCH\\t71\\t7\\t334.12\\t--\\n2023-02-09\\tAD_NETWORK\\t1862\\t3\\t74.83\\t--\\n2023-02-09\\tSEARCH\\t82\\t5\\t1021.30\\t1\\n2023-02-10\\tAD_NETWORK\\t3578\\t9\\t85.14\\t--\\n2023-02-10\\tSEARCH\\t62\\t4\\t464.21\\t--\\n2023-02-11\\tAD_NETWORK\\t12\\t0\\t0.00\\t--\\n2023-02-12\\tAD_NETWORK\\t587\\t8\\t0.00\\t--\\n2023-02-12\\tSEARCH\\t6\\t0\\t0.00\\t--\\n'"
      ]
     },
     "execution_count": 41,
     "metadata": {},
     "output_type": "execute_result"
    }
   ],
   "source": [
    "result"
   ]
  },
  {
   "cell_type": "markdown",
   "id": "f065b394",
   "metadata": {},
   "source": [
    "## Преобразование ответа в датафрейм"
   ]
  },
  {
   "cell_type": "code",
   "execution_count": 42,
   "id": "0b539e4c",
   "metadata": {},
   "outputs": [
    {
     "data": {
      "text/html": [
       "<div>\n",
       "<style scoped>\n",
       "    .dataframe tbody tr th:only-of-type {\n",
       "        vertical-align: middle;\n",
       "    }\n",
       "\n",
       "    .dataframe tbody tr th {\n",
       "        vertical-align: top;\n",
       "    }\n",
       "\n",
       "    .dataframe thead th {\n",
       "        text-align: right;\n",
       "    }\n",
       "</style>\n",
       "<table border=\"1\" class=\"dataframe\">\n",
       "  <thead>\n",
       "    <tr style=\"text-align: right;\">\n",
       "      <th></th>\n",
       "      <th>Date</th>\n",
       "      <th>AdNetworkType</th>\n",
       "      <th>Impressions</th>\n",
       "      <th>Clicks</th>\n",
       "      <th>Cost</th>\n",
       "      <th>Conversions</th>\n",
       "    </tr>\n",
       "  </thead>\n",
       "  <tbody>\n",
       "    <tr>\n",
       "      <th>0</th>\n",
       "      <td>2022-06-20</td>\n",
       "      <td>AD_NETWORK</td>\n",
       "      <td>491</td>\n",
       "      <td>3</td>\n",
       "      <td>33.84</td>\n",
       "      <td>--</td>\n",
       "    </tr>\n",
       "    <tr>\n",
       "      <th>1</th>\n",
       "      <td>2022-06-20</td>\n",
       "      <td>SEARCH</td>\n",
       "      <td>3</td>\n",
       "      <td>0</td>\n",
       "      <td>0.00</td>\n",
       "      <td>--</td>\n",
       "    </tr>\n",
       "    <tr>\n",
       "      <th>2</th>\n",
       "      <td>2022-06-21</td>\n",
       "      <td>AD_NETWORK</td>\n",
       "      <td>816</td>\n",
       "      <td>3</td>\n",
       "      <td>37.60</td>\n",
       "      <td>--</td>\n",
       "    </tr>\n",
       "    <tr>\n",
       "      <th>3</th>\n",
       "      <td>2022-06-21</td>\n",
       "      <td>SEARCH</td>\n",
       "      <td>7</td>\n",
       "      <td>0</td>\n",
       "      <td>0.00</td>\n",
       "      <td>--</td>\n",
       "    </tr>\n",
       "    <tr>\n",
       "      <th>4</th>\n",
       "      <td>2022-06-22</td>\n",
       "      <td>AD_NETWORK</td>\n",
       "      <td>1475</td>\n",
       "      <td>2</td>\n",
       "      <td>14.92</td>\n",
       "      <td>--</td>\n",
       "    </tr>\n",
       "  </tbody>\n",
       "</table>\n",
       "</div>"
      ],
      "text/plain": [
       "         Date AdNetworkType  Impressions  Clicks   Cost Conversions\n",
       "0  2022-06-20    AD_NETWORK          491       3  33.84          --\n",
       "1  2022-06-20        SEARCH            3       0   0.00          --\n",
       "2  2022-06-21    AD_NETWORK          816       3  37.60          --\n",
       "3  2022-06-21        SEARCH            7       0   0.00          --\n",
       "4  2022-06-22    AD_NETWORK         1475       2  14.92          --"
      ]
     },
     "execution_count": 42,
     "metadata": {},
     "output_type": "execute_result"
    }
   ],
   "source": [
    "# Преобразование ответа в датафрейм   ()      \n",
    "file = open(\"cashe.csv\", \"w\")   # сздаем и открываем новый файл\n",
    "file.write(result)            # записываем в него ответ API\n",
    "file.close()                    # закрываем файл\n",
    "df = pd.read_csv(\"cashe.csv\", header=1, sep='\\t', index_col=0, encoding='cp1251')     # записываем в датафрейм файл\n",
    "df = df.reset_index()\n",
    "df.head()"
   ]
  },
  {
   "cell_type": "markdown",
   "id": "11ff9c21",
   "metadata": {},
   "source": [
    "## Преобразование форматов"
   ]
  },
  {
   "cell_type": "code",
   "execution_count": 43,
   "id": "4a283ff4",
   "metadata": {},
   "outputs": [],
   "source": [
    "# Столбец даты переводить в формат даты нельзя, это мешает записи в файл\n",
    "# столбец конверсий в формат целых чисел\n",
    "df['Conversions'] = df['Conversions'].replace('--', '0')\n",
    "df['Conversions'] = df['Conversions'].astype('int')"
   ]
  },
  {
   "cell_type": "markdown",
   "id": "12cb773a",
   "metadata": {},
   "source": [
    "## Подсчет CTR,  средней стоимости клика и конверсии"
   ]
  },
  {
   "cell_type": "code",
   "execution_count": 59,
   "id": "fab71a66",
   "metadata": {},
   "outputs": [],
   "source": [
    "df['Aver_click_cost'] = round(df['Cost'] / df['Clicks'] , 2)\n",
    "# если стоимости нет заполним ячейки нулем\n",
    "df['Aver_click_cost'] = df['Aver_click_cost'].fillna(0)\n",
    "df['CTR'] = round((df['Clicks'] / df['Impressions']) *100 , 2)\n",
    "\n",
    "# посчитаем стоимость целевого действия, если его  не было то оно = 0\n",
    "df.loc[df['Conversions'] == 0, 'Aver_target_cost'] = 0\n",
    "df.loc[df['Conversions'] != 0, 'Aver_target_cost'] = round(df['Cost'] / df['Conversions'] , 2)\n",
    "#df['Aver_terget_cost'] = round(df['Cost'] / df['Conversions'] , 2)"
   ]
  },
  {
   "cell_type": "markdown",
   "id": "9310dc85",
   "metadata": {},
   "source": [
    "# Загрузка файла на Гугл диск"
   ]
  },
  {
   "cell_type": "markdown",
   "id": "f716e1b8",
   "metadata": {},
   "source": [
    "## Загрузка библиотек"
   ]
  },
  {
   "cell_type": "code",
   "execution_count": 45,
   "id": "772e09ae",
   "metadata": {},
   "outputs": [],
   "source": [
    "# Подключаем библиотеки\n",
    "import httplib2 \n",
    "import apiclient.discovery\n",
    "from oauth2client.service_account import ServiceAccountCredentials\n",
    "\n",
    "from __future__ import print_function\n",
    "import google.auth\n",
    "from googleapiclient.discovery import build\n",
    "from googleapiclient.errors import HttpError\n",
    "\n",
    "from google.oauth2 import service_account\n",
    "from googleapiclient.http import MediaIoBaseDownload,MediaFileUpload\n",
    "import pprint\n",
    "import io\n",
    "\n",
    "pp = pprint.PrettyPrinter(indent=4)\n",
    "\n",
    "# библиотека работы с Гугл шитс\n",
    "# https://docs.gspread.org/en/latest/user-guide.html#opening-a-spreadsheet\n",
    "import gspread\n",
    "import gspread_dataframe as gd"
   ]
  },
  {
   "cell_type": "markdown",
   "id": "228c4c5d",
   "metadata": {},
   "source": [
    "## Файл с ключом доступа"
   ]
  },
  {
   "cell_type": "code",
   "execution_count": 46,
   "id": "870f1d86",
   "metadata": {},
   "outputs": [],
   "source": [
    "# Ссылка на файл с закрытым ключом\n",
    "CREDENTIALS_FILE = r'C:\\Users\\ezhmui04\\Documents\\Ключ доступа к GoogleCloud\\directdashboard-734cbb03b84d.json' \n",
    "# создание SCOPE только для драйва\n",
    "SCOPES_drive = ['https://www.googleapis.com/auth/drive']"
   ]
  },
  {
   "cell_type": "code",
   "execution_count": 47,
   "id": "65f38919",
   "metadata": {},
   "outputs": [],
   "source": [
    "credentials_drive = service_account.Credentials.from_service_account_file(CREDENTIALS_FILE, scopes=SCOPES_drive)\n",
    "gc = gspread.service_account(CREDENTIALS_FILE)"
   ]
  },
  {
   "cell_type": "markdown",
   "id": "8aafe29b",
   "metadata": {},
   "source": [
    "## Создаем файл Data_for_dash"
   ]
  },
  {
   "cell_type": "code",
   "execution_count": 48,
   "id": "f2b41ede",
   "metadata": {},
   "outputs": [
    {
     "name": "stdout",
     "output_type": "stream",
     "text": [
      "https://docs.google.com/spreadsheets/d/193gD3jEMjezNXZDLg93RsDfV-UTbshsyNWODVXPQJNE\n"
     ]
    }
   ],
   "source": [
    "# Читаем ключи из файла\n",
    "credentials = ServiceAccountCredentials.from_json_keyfile_name(CREDENTIALS_FILE, ['https://www.googleapis.com/auth/spreadsheets', 'https://www.googleapis.com/auth/drive'])\n",
    "\n",
    "httpAuth = credentials.authorize(httplib2.Http()) # Авторизуемся в системе\n",
    "service = apiclient.discovery.build('sheets', 'v4', http = httpAuth) # Выбираем работу с таблицами и 4 версию API\n",
    "\n",
    "spreadsheet = service.spreadsheets().create(body = {\n",
    "    'properties': {'title': 'Data_for_dash', 'locale': 'ru_RU'},\n",
    "    'sheets': [{'properties': {'sheetType': 'GRID',\n",
    "                               'sheetId': 0,\n",
    "                               'title': 'List1',\n",
    "                               'gridProperties': {'rowCount': 10000, 'columnCount': 15}}}]\n",
    "}).execute()\n",
    "spreadsheetId = spreadsheet['spreadsheetId'] # сохраняем идентификатор файла\n",
    "print('https://docs.google.com/spreadsheets/d/' + spreadsheetId)"
   ]
  },
  {
   "cell_type": "markdown",
   "id": "64f08342",
   "metadata": {},
   "source": [
    "## разрешение на чтение файла"
   ]
  },
  {
   "cell_type": "code",
   "execution_count": 63,
   "id": "512912c9",
   "metadata": {},
   "outputs": [],
   "source": [
    "# выдача разрешения на чтение файла \n",
    "driveService = apiclient.discovery.build('drive', 'v3', http = httpAuth) # Выбираем работу с Google Drive и 3 версию API\n",
    "access = driveService.permissions().create(\n",
    "    fileId = spreadsheetId,\n",
    "    body = {'type': 'user', 'role': 'writer', 'emailAddress': 'rostov78@mail.ru'},  # Открываем доступ на редактирование\n",
    "    fields = 'id'\n",
    ").execute()\n",
    "\n",
    "# role can be also 'writer'"
   ]
  },
  {
   "cell_type": "code",
   "execution_count": 65,
   "id": "39b22361",
   "metadata": {},
   "outputs": [],
   "source": [
    "# выдача разрешения на чтение файла \n",
    "driveService = apiclient.discovery.build('drive', 'v3', http = httpAuth) # Выбираем работу с Google Drive и 3 версию API\n",
    "access = driveService.permissions().create(\n",
    "    fileId = spreadsheetId,\n",
    "    body = {'type': 'user', 'role': 'writer', 'emailAddress': 'zhmuidetsky@yandex.ru'},  # Открываем доступ на редактирование\n",
    "    fields = 'id'\n",
    ").execute()"
   ]
  },
  {
   "cell_type": "markdown",
   "id": "f907f006",
   "metadata": {},
   "source": [
    "## Запись датафрейма в файл"
   ]
  },
  {
   "cell_type": "code",
   "execution_count": 50,
   "id": "8110ce2f",
   "metadata": {},
   "outputs": [],
   "source": [
    "df['Date'] = df['Date'].astype(str)"
   ]
  },
  {
   "cell_type": "code",
   "execution_count": 51,
   "id": "dd3e1681",
   "metadata": {
    "scrolled": true
   },
   "outputs": [
    {
     "name": "stdout",
     "output_type": "stream",
     "text": [
      "<class 'pandas.core.frame.DataFrame'>\n",
      "RangeIndex: 451 entries, 0 to 450\n",
      "Data columns (total 9 columns):\n",
      " #   Column            Non-Null Count  Dtype  \n",
      "---  ------            --------------  -----  \n",
      " 0   Date              451 non-null    object \n",
      " 1   AdNetworkType     451 non-null    object \n",
      " 2   Impressions       451 non-null    int64  \n",
      " 3   Clicks            451 non-null    int64  \n",
      " 4   Cost              451 non-null    float64\n",
      " 5   Conversions       451 non-null    int32  \n",
      " 6   Aver_click_cost   397 non-null    float64\n",
      " 7   CTR               451 non-null    float64\n",
      " 8   Aver_target_cost  451 non-null    float64\n",
      "dtypes: float64(4), int32(1), int64(2), object(2)\n",
      "memory usage: 30.1+ KB\n"
     ]
    }
   ],
   "source": [
    "df.info()"
   ]
  },
  {
   "cell_type": "code",
   "execution_count": 61,
   "id": "322a6132",
   "metadata": {
    "scrolled": false
   },
   "outputs": [
    {
     "data": {
      "text/plain": [
       "{'spreadsheetId': '193gD3jEMjezNXZDLg93RsDfV-UTbshsyNWODVXPQJNE',\n",
       " 'updatedRange': 'List1!A1:I452',\n",
       " 'updatedRows': 452,\n",
       " 'updatedColumns': 9,\n",
       " 'updatedCells': 4068}"
      ]
     },
     "execution_count": 61,
     "metadata": {},
     "output_type": "execute_result"
    }
   ],
   "source": [
    "# Open a spreadsheet by title\n",
    "sh = gc.open(\"Data_for_dash\")\n",
    "wk = sh.sheet1\n",
    "\n",
    "# обязательно указать raw=False - что бы не было лишнего апострофа перед датой\n",
    "params = {'valueInputOption': 'USER_ENTERED'}\n",
    "# запись в файл датафрейма целиком\n",
    "wk.update([df.columns.values.tolist()] + df.values.tolist(), raw=False)"
   ]
  },
  {
   "cell_type": "code",
   "execution_count": null,
   "id": "1bf7cd4b",
   "metadata": {},
   "outputs": [],
   "source": []
  }
 ],
 "metadata": {
  "kernelspec": {
   "display_name": "Python 3 (ipykernel)",
   "language": "python",
   "name": "python3"
  },
  "language_info": {
   "codemirror_mode": {
    "name": "ipython",
    "version": 3
   },
   "file_extension": ".py",
   "mimetype": "text/x-python",
   "name": "python",
   "nbconvert_exporter": "python",
   "pygments_lexer": "ipython3",
   "version": "3.10.7"
  },
  "toc": {
   "base_numbering": 1,
   "nav_menu": {},
   "number_sections": true,
   "sideBar": true,
   "skip_h1_title": false,
   "title_cell": "Table of Contents",
   "title_sidebar": "Contents",
   "toc_cell": false,
   "toc_position": {},
   "toc_section_display": true,
   "toc_window_display": false
  },
  "varInspector": {
   "cols": {
    "lenName": 16,
    "lenType": 16,
    "lenVar": 40
   },
   "kernels_config": {
    "python": {
     "delete_cmd_postfix": "",
     "delete_cmd_prefix": "del ",
     "library": "var_list.py",
     "varRefreshCmd": "print(var_dic_list())"
    },
    "r": {
     "delete_cmd_postfix": ") ",
     "delete_cmd_prefix": "rm(",
     "library": "var_list.r",
     "varRefreshCmd": "cat(var_dic_list()) "
    }
   },
   "types_to_exclude": [
    "module",
    "function",
    "builtin_function_or_method",
    "instance",
    "_Feature"
   ],
   "window_display": false
  }
 },
 "nbformat": 4,
 "nbformat_minor": 5
}
