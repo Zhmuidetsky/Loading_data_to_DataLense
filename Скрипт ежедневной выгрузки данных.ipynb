{
 "cells": [
  {
   "cell_type": "markdown",
   "id": "dcf213ff",
   "metadata": {},
   "source": [
    "# Вводная часть"
   ]
  },
  {
   "cell_type": "markdown",
   "id": "fa67ee87",
   "metadata": {},
   "source": [
    "## Импорт библиотек"
   ]
  },
  {
   "cell_type": "code",
   "execution_count": 1,
   "id": "5ad39562",
   "metadata": {},
   "outputs": [],
   "source": [
    "# перед началом работы импортируем библиотеки, которые могут понадобиться в работе над проектом\n",
    "\n",
    "import pandas as pd\n",
    "import math\n",
    "import numpy as np\n",
    "from matplotlib import pyplot as plt\n",
    "from scipy import stats as st\n",
    "import seaborn as sns\n",
    "import scipy.stats as stats\n",
    "import plotly.express as px\n",
    "import plotly.graph_objs as go\n",
    "from plotly.subplots import make_subplots\n",
    "import requests \n",
    "from urllib.parse import urlencode \n",
    "import re\n",
    "from calendar import day_name\n",
    "\n",
    "%matplotlib inline\n",
    "# импорт библиотеки подключения к яндекс-метрике\n",
    "from tapi_yandex_metrika import YandexMetrikaStats\n",
    "from pandas.io.json import json_normalize\n",
    "import json\n",
    "from requests_html import HTMLSession\n",
    "session = HTMLSession()\n",
    "from pandas import Series,DataFrame\n",
    "from io import BytesIO\n",
    "from time import sleep\n",
    "import sys"
   ]
  },
  {
   "cell_type": "code",
   "execution_count": 2,
   "id": "7f99bdfc",
   "metadata": {},
   "outputs": [],
   "source": [
    "# Метод для корректной обработки строк в кодировке UTF-8 как в Python 3, так и в Python 2\n",
    "if sys.version_info < (3,):\n",
    "    def u(x):\n",
    "        try:\n",
    "            return x.encode(\"utf8\")\n",
    "        except UnicodeDecodeError:\n",
    "            return x\n",
    "else:\n",
    "    def u(x):\n",
    "        if type(x) == type(b''):\n",
    "            return x.decode('utf8')\n",
    "        else:\n",
    "            return x"
   ]
  },
  {
   "cell_type": "markdown",
   "id": "dde6acdb",
   "metadata": {},
   "source": [
    "## Функция загрузки данных"
   ]
  },
  {
   "cell_type": "code",
   "execution_count": 3,
   "id": "aa6b9059",
   "metadata": {},
   "outputs": [],
   "source": [
    "def req_to_direct(URL, body, headers):   \n",
    "    # --- Запуск цикла для выполнения запросов ---\n",
    "    # Если получен HTTP-код 200, то выводится содержание отчета\n",
    "    # Если получен HTTP-код 201 или 202, выполняются повторные запросы\n",
    "    while True:\n",
    "        try:\n",
    "            req = requests.post(URL, body, headers=headers)\n",
    "            req.encoding = 'utf-8'  # Принудительная обработка ответа в кодировке UTF-8\n",
    "            if req.status_code == 400:\n",
    "                print(\"Параметры запроса указаны неверно или достигнут лимит отчетов в очереди\")\n",
    "                print(\"RequestId: {}\".format(req.headers.get(\"RequestId\", False)))\n",
    "                print(\"JSON-код запроса: {}\".format(u(body)))\n",
    "                print(\"JSON-код ответа сервера: \\n{}\".format(u(req.json())))\n",
    "                break\n",
    "            elif req.status_code == 200:\n",
    "                print(\"Отчет создан успешно\")\n",
    "                format(u(req.text))\n",
    "                return(req.text)\n",
    "                # return(req.content) если вдруг хотим в байтах выгрузить и преобразовывать\n",
    "                break\n",
    "            elif req.status_code == 201:\n",
    "                print(\"Отчет успешно поставлен в очередь в режиме офлайн\")\n",
    "                retryIn = int(req.headers.get(\"retryIn\", 60))\n",
    "                print(\"Повторная отправка запроса через {} секунд\".format(retryIn))\n",
    "                print(\"RequestId: {}\".format(req.headers.get(\"RequestId\", False)))\n",
    "                sleep(retryIn)\n",
    "            elif req.status_code == 202:\n",
    "                print(\"Отчет формируется в режиме офлайн\")\n",
    "                retryIn = int(req.headers.get(\"retryIn\", 60))\n",
    "                print(\"Повторная отправка запроса через {} секунд\".format(retryIn))\n",
    "                print(\"RequestId:  {}\".format(req.headers.get(\"RequestId\", False)))\n",
    "                sleep(retryIn)\n",
    "            elif req.status_code == 500:\n",
    "                print(\"При формировании отчета произошла ошибка. Пожалуйста, попробуйте повторить запрос позднее\")\n",
    "                print(\"RequestId: {}\".format(req.headers.get(\"RequestId\", False)))\n",
    "                print(\"JSON-код ответа сервера: \\n{}\".format(u(req.json())))\n",
    "                break\n",
    "            elif req.status_code == 502:\n",
    "                print(\"Время формирования отчета превысило серверное ограничение.\")\n",
    "                print(\"Пожалуйста, попробуйте изменить параметры запроса - уменьшить период и количество запрашиваемых данных.\")\n",
    "                print(\"JSON-код запроса: {}\".format(body))\n",
    "                print(\"RequestId: {}\".format(req.headers.get(\"RequestId\", False)))\n",
    "                print(\"JSON-код ответа сервера: \\n{}\".format(u(req.json())))\n",
    "                break\n",
    "            else:\n",
    "                print(\"Произошла непредвиденная ошибка\")\n",
    "                print(\"RequestId:  {}\".format(req.headers.get(\"RequestId\", False)))\n",
    "                print(\"JSON-код запроса: {}\".format(body))\n",
    "                print(\"JSON-код ответа сервера: \\n{}\".format(u(req.json())))\n",
    "                break\n",
    "\n",
    "        # Обработка ошибки, если не удалось соединиться с сервером API Директа\n",
    "        except ConnectionError:\n",
    "            # В данном случае мы рекомендуем повторить запрос позднее\n",
    "            print(\"Произошла ошибка соединения с сервером API\")\n",
    "            # Принудительный выход из цикла\n",
    "            break\n",
    "\n",
    "        # Если возникла какая-либо другая ошибка\n",
    "        except:\n",
    "            # В данном случае мы рекомендуем проанализировать действия приложения\n",
    "            print(\"Произошла непредвиденная ошибка\")\n",
    "            # Принудительный выход из цикла\n",
    "            break"
   ]
  },
  {
   "cell_type": "markdown",
   "id": "5060c7e4",
   "metadata": {},
   "source": [
    "# Запрос к директу"
   ]
  },
  {
   "cell_type": "markdown",
   "id": "a4d4b259",
   "metadata": {},
   "source": [
    "## Токен доступа"
   ]
  },
  {
   "cell_type": "code",
   "execution_count": 4,
   "id": "612d7611",
   "metadata": {},
   "outputs": [],
   "source": [
    "# токен доступа к директу\n",
    "ACCESS_TOKEN = \"ВАШ ТОКЕН"\n",
    "\n",
    "ACCESS_TOKEN_EZ = \"ВАШ ТОКЕН""
   ]
  },
  {
   "cell_type": "markdown",
   "id": "69eb9301",
   "metadata": {},
   "source": [
    "## Параметры запроса"
   ]
  },
  {
   "cell_type": "code",
   "execution_count": 5,
   "id": "2c20205b",
   "metadata": {},
   "outputs": [],
   "source": [
    "# --- Входные данные ---\n",
    "# Адрес сервиса Reports для отправки JSON-запросов (регистрозависимый)\n",
    "ReportsURL = 'https://api.direct.yandex.com/json/v5/reports'\n",
    "\n",
    "#адрес сервиса ОТЧЕТОВ ПЕСОЧНИЦА\n",
    "ReportsURL_SANDBOX = 'https://api-sandbox.direct.yandex.com/json/v5/reports'\n",
    "\n",
    "# OAuth-токен пользователя, от имени которого будут выполняться запросы\n",
    "token = ACCESS_TOKEN_EZ\n",
    "\n",
    "# Логин клиента рекламного агентства\n",
    "# Обязательный параметр, если запросы выполняются от имени рекламного агентства\n",
    "# это тот логин, для которого получен токен!!!\n",
    "clientLogin = 'evgeny.zhmuidetsky'\n",
    "\n",
    "#какие столбцы подгрузить\n",
    "# для дашборда необходимы дата, тип рекламной сети, показы, клики, стоимость, количество конверсий\n",
    "stolbec = [\"Date\", \"AdNetworkType\", \"Impressions\", \"Clicks\", \"Cost\", \"Conversions\"]\n",
    "\n",
    "\n",
    "#даты отчета\n",
    "#StartDate = \"2022-01-03\"\n",
    "#FinishDate = \"2022-01-05\"\n",
    "\n",
    "# --- Подготовка запроса ---\n",
    "# Создание HTTP-заголовков запроса\n",
    "headers = {\n",
    "           # OAuth-токен. Использование слова Bearer обязательно\n",
    "           \"Authorization\": \"Bearer \" + token,\n",
    "           # Логин клиента рекламного агентства\n",
    "           \"Client-Login\": clientLogin,\n",
    "           # Язык ответных сообщений\n",
    "           \"Accept-Language\": \"ru\",\n",
    "           # Режим формирования отчета\n",
    "           \"processingMode\": \"auto\",\n",
    "           # Формат денежных значений в отчете, если не сделать, то расходы будут в миллионах\n",
    "            \"returnMoneyInMicros\": \"false\",\n",
    "           # Не выводить в отчете строку с названием отчета и диапазоном дат\n",
    "           # \"skipReportHeader\": \"true\",\n",
    "           # Не выводить в отчете строку с названиями полей\n",
    "            #\"skipColumnHeader\": \"true\",\n",
    "           # Не выводить в отчете строку с количеством строк статистики\n",
    "            \"skipReportSummary\": \"true\"\n",
    "           }\n",
    "\n",
    "# Создание тела запроса\n",
    "body = {\n",
    "    \"params\": {\n",
    "        # критерии выбора, тут могут быть фильтры, логические операторы, \n",
    "        \"SelectionCriteria\": \n",
    "              {\n",
    "              }, \n",
    "        \"FieldNames\": stolbec,\n",
    "        \"ReportName\": u(\"Отчет 99\"),\n",
    "        \"ReportType\": \"CUSTOM_REPORT\",   # тип отчета\n",
    "        \"DateRangeType\": \"YESTERDAY\",\n",
    "        \"Format\": \"TSV\",  # обязательно\n",
    "        \"IncludeVAT\": \"YES\",\n",
    "        \"IncludeDiscount\": \"NO\"\n",
    "              }\n",
    "       }\n",
    "\n",
    "# Кодирование тела запроса в JSON\n",
    "body = json.dumps(body, indent=4)\n"
   ]
  },
  {
   "cell_type": "markdown",
   "id": "d5ad4a46",
   "metadata": {},
   "source": [
    "## Запрос к директу"
   ]
  },
  {
   "cell_type": "code",
   "execution_count": 6,
   "id": "c86e1456",
   "metadata": {},
   "outputs": [
    {
     "name": "stdout",
     "output_type": "stream",
     "text": [
      "Отчет успешно поставлен в очередь в режиме офлайн\n",
      "Повторная отправка запроса через 1 секунд\n",
      "RequestId: 7726378136019940464\n",
      "Отчет создан успешно\n"
     ]
    }
   ],
   "source": [
    "# запрос к данным директа\n",
    "result = req_to_direct(ReportsURL, body, headers)"
   ]
  },
  {
   "cell_type": "markdown",
   "id": "e1d92b90",
   "metadata": {},
   "source": [
    "## Преобразование ответа в датафрейм"
   ]
  },
  {
   "cell_type": "code",
   "execution_count": 7,
   "id": "8a56f180",
   "metadata": {},
   "outputs": [
    {
     "data": {
      "text/html": [
       "<div>\n",
       "<style scoped>\n",
       "    .dataframe tbody tr th:only-of-type {\n",
       "        vertical-align: middle;\n",
       "    }\n",
       "\n",
       "    .dataframe tbody tr th {\n",
       "        vertical-align: top;\n",
       "    }\n",
       "\n",
       "    .dataframe thead th {\n",
       "        text-align: right;\n",
       "    }\n",
       "</style>\n",
       "<table border=\"1\" class=\"dataframe\">\n",
       "  <thead>\n",
       "    <tr style=\"text-align: right;\">\n",
       "      <th></th>\n",
       "      <th>Date</th>\n",
       "      <th>AdNetworkType</th>\n",
       "      <th>Impressions</th>\n",
       "      <th>Clicks</th>\n",
       "      <th>Cost</th>\n",
       "      <th>Conversions</th>\n",
       "    </tr>\n",
       "  </thead>\n",
       "  <tbody>\n",
       "    <tr>\n",
       "      <th>0</th>\n",
       "      <td>2023-02-13</td>\n",
       "      <td>AD_NETWORK</td>\n",
       "      <td>15107</td>\n",
       "      <td>67</td>\n",
       "      <td>29.83</td>\n",
       "      <td>--</td>\n",
       "    </tr>\n",
       "    <tr>\n",
       "      <th>1</th>\n",
       "      <td>2023-02-13</td>\n",
       "      <td>SEARCH</td>\n",
       "      <td>81</td>\n",
       "      <td>5</td>\n",
       "      <td>200.78</td>\n",
       "      <td>1</td>\n",
       "    </tr>\n",
       "  </tbody>\n",
       "</table>\n",
       "</div>"
      ],
      "text/plain": [
       "         Date AdNetworkType  Impressions  Clicks    Cost Conversions\n",
       "0  2023-02-13    AD_NETWORK        15107      67   29.83          --\n",
       "1  2023-02-13        SEARCH           81       5  200.78           1"
      ]
     },
     "execution_count": 7,
     "metadata": {},
     "output_type": "execute_result"
    }
   ],
   "source": [
    "# Преобразование ответа в датафрейм   ()      \n",
    "file = open(\"cashe.csv\", \"w\")   # сздаем и открываем новый файл\n",
    "file.write(result)            # записываем в него ответ API\n",
    "file.close()                    # закрываем файл\n",
    "df = pd.read_csv(\"cashe.csv\", header=1, sep='\\t', index_col=0, encoding='cp1251')     # записываем в датафрейм файл\n",
    "df = df.reset_index()\n",
    "df.head()"
   ]
  },
  {
   "cell_type": "markdown",
   "id": "abfffb7a",
   "metadata": {},
   "source": [
    "## Преобразование форматов"
   ]
  },
  {
   "cell_type": "code",
   "execution_count": 8,
   "id": "c6134ea8",
   "metadata": {},
   "outputs": [],
   "source": [
    "# Столбец даты переводить в формат даты нельзя, это мешает записи в файл\n",
    "# столбец конверсий в формат целых чисел\n",
    "df['Conversions'] = df['Conversions'].replace('--', '0')\n",
    "df['Conversions'] = df['Conversions'].astype('int')"
   ]
  },
  {
   "cell_type": "markdown",
   "id": "e2cc8fbc",
   "metadata": {},
   "source": [
    "## Подсчет CTR,  средней стоимости клика и конверсии"
   ]
  },
  {
   "cell_type": "code",
   "execution_count": 9,
   "id": "9e304359",
   "metadata": {},
   "outputs": [
    {
     "data": {
      "text/html": [
       "<div>\n",
       "<style scoped>\n",
       "    .dataframe tbody tr th:only-of-type {\n",
       "        vertical-align: middle;\n",
       "    }\n",
       "\n",
       "    .dataframe tbody tr th {\n",
       "        vertical-align: top;\n",
       "    }\n",
       "\n",
       "    .dataframe thead th {\n",
       "        text-align: right;\n",
       "    }\n",
       "</style>\n",
       "<table border=\"1\" class=\"dataframe\">\n",
       "  <thead>\n",
       "    <tr style=\"text-align: right;\">\n",
       "      <th></th>\n",
       "      <th>Date</th>\n",
       "      <th>AdNetworkType</th>\n",
       "      <th>Impressions</th>\n",
       "      <th>Clicks</th>\n",
       "      <th>Cost</th>\n",
       "      <th>Conversions</th>\n",
       "    </tr>\n",
       "  </thead>\n",
       "  <tbody>\n",
       "    <tr>\n",
       "      <th>0</th>\n",
       "      <td>2023-02-13</td>\n",
       "      <td>AD_NETWORK</td>\n",
       "      <td>15107</td>\n",
       "      <td>67</td>\n",
       "      <td>29.83</td>\n",
       "      <td>0</td>\n",
       "    </tr>\n",
       "    <tr>\n",
       "      <th>1</th>\n",
       "      <td>2023-02-13</td>\n",
       "      <td>SEARCH</td>\n",
       "      <td>81</td>\n",
       "      <td>5</td>\n",
       "      <td>200.78</td>\n",
       "      <td>1</td>\n",
       "    </tr>\n",
       "  </tbody>\n",
       "</table>\n",
       "</div>"
      ],
      "text/plain": [
       "         Date AdNetworkType  Impressions  Clicks    Cost  Conversions\n",
       "0  2023-02-13    AD_NETWORK        15107      67   29.83            0\n",
       "1  2023-02-13        SEARCH           81       5  200.78            1"
      ]
     },
     "execution_count": 9,
     "metadata": {},
     "output_type": "execute_result"
    }
   ],
   "source": [
    "df"
   ]
  },
  {
   "cell_type": "code",
   "execution_count": 10,
   "id": "28ddb8aa",
   "metadata": {},
   "outputs": [],
   "source": [
    "df['Aver_click_cost'] = round(df['Cost'] / df['Clicks'] , 2)\n",
    "df['CTR'] = round((df['Clicks'] / df['Impressions']) *100 , 2)\n",
    "\n",
    "# посчитаем стоимость целевого действия, если его  не было то оно = 0\n",
    "df.loc[df['Conversions'] == 0, 'Aver_target_cost'] = 0\n",
    "df.loc[df['Conversions'] != 0, 'Aver_target_cost'] = round(df['Cost'] / df['Conversions'] , 2)\n",
    "#df['Aver_terget_cost'] = round(df['Cost'] / df['Conversions'] , 2)"
   ]
  },
  {
   "cell_type": "markdown",
   "id": "44686cda",
   "metadata": {},
   "source": [
    "# Загрузка файла на Гугл диск"
   ]
  },
  {
   "cell_type": "markdown",
   "id": "8581d66d",
   "metadata": {},
   "source": [
    "## Загрузка библиотек"
   ]
  },
  {
   "cell_type": "code",
   "execution_count": 11,
   "id": "599b964a",
   "metadata": {},
   "outputs": [],
   "source": [
    "# Подключаем библиотеки\n",
    "import httplib2 \n",
    "import apiclient.discovery\n",
    "from oauth2client.service_account import ServiceAccountCredentials\n",
    "\n",
    "from __future__ import print_function\n",
    "import google.auth\n",
    "from googleapiclient.discovery import build\n",
    "from googleapiclient.errors import HttpError\n",
    "\n",
    "from google.oauth2 import service_account\n",
    "from googleapiclient.http import MediaIoBaseDownload,MediaFileUpload\n",
    "import pprint\n",
    "import io\n",
    "\n",
    "pp = pprint.PrettyPrinter(indent=4)\n",
    "\n",
    "# библиотека работы с Гугл шитс\n",
    "# https://docs.gspread.org/en/latest/user-guide.html#opening-a-spreadsheet\n",
    "import gspread\n",
    "import gspread_dataframe as gd"
   ]
  },
  {
   "cell_type": "markdown",
   "id": "2c5d1620",
   "metadata": {},
   "source": [
    "## Файл с ключом доступа"
   ]
  },
  {
   "cell_type": "code",
   "execution_count": 12,
   "id": "a3f37a71",
   "metadata": {},
   "outputs": [],
   "source": [
    "# Ссылка на файл с закрытым ключом\n",
    "CREDENTIALS_FILE = r'C:\\Users\\ezhmui04\\Documents\\Ключ доступа к GoogleCloud\\directdashboard-734cbb03b84d.json' \n",
    "# создание SCOPE только для драйва\n",
    "SCOPES_drive = ['https://www.googleapis.com/auth/drive']"
   ]
  },
  {
   "cell_type": "code",
   "execution_count": 13,
   "id": "803214ad",
   "metadata": {},
   "outputs": [],
   "source": [
    "credentials_drive = service_account.Credentials.from_service_account_file(CREDENTIALS_FILE, scopes=SCOPES_drive)\n",
    "gc = gspread.service_account(CREDENTIALS_FILE)"
   ]
  },
  {
   "cell_type": "markdown",
   "id": "7e84e3e3",
   "metadata": {},
   "source": [
    "## Запись датафрейма в файл"
   ]
  },
  {
   "cell_type": "code",
   "execution_count": 14,
   "id": "921436f5",
   "metadata": {},
   "outputs": [],
   "source": [
    "# Читаем ключи из файла\n",
    "credentials = ServiceAccountCredentials.from_json_keyfile_name(CREDENTIALS_FILE, ['https://www.googleapis.com/auth/spreadsheets', 'https://www.googleapis.com/auth/drive'])\n",
    "\n",
    "httpAuth = credentials.authorize(httplib2.Http()) # Авторизуемся в системе\n",
    "service = apiclient.discovery.build('sheets', 'v4', http = httpAuth) # Выбираем работу с таблицами и 4 версию API"
   ]
  },
  {
   "cell_type": "code",
   "execution_count": 15,
   "id": "c9084945",
   "metadata": {},
   "outputs": [],
   "source": [
    "#df['Date'] = df['Date'].astype(str)"
   ]
  },
  {
   "cell_type": "code",
   "execution_count": 16,
   "id": "c9eba2f5",
   "metadata": {},
   "outputs": [
    {
     "data": {
      "text/plain": [
       "{'spreadsheetId': '193gD3jEMjezNXZDLg93RsDfV-UTbshsyNWODVXPQJNE',\n",
       " 'tableRange': 'List1!A1:I452',\n",
       " 'updates': {'spreadsheetId': '193gD3jEMjezNXZDLg93RsDfV-UTbshsyNWODVXPQJNE',\n",
       "  'updatedRange': 'List1!A453:I454',\n",
       "  'updatedRows': 2,\n",
       "  'updatedColumns': 9,\n",
       "  'updatedCells': 18}}"
      ]
     },
     "execution_count": 16,
     "metadata": {},
     "output_type": "execute_result"
    }
   ],
   "source": [
    "# Open a spreadsheet by title\n",
    "sh = gc.open(\"Data_for_dash\")\n",
    "wk = sh.sheet1\n",
    "\n",
    "params = {'valueInputOption': 'USER_ENTERED'}\n",
    "body = {'values': df.values.tolist()}\n",
    "sh.values_append(f'wkA1:D1', params, body)"
   ]
  },
  {
   "cell_type": "code",
   "execution_count": null,
   "id": "88c4095e",
   "metadata": {},
   "outputs": [],
   "source": []
  }
 ],
 "metadata": {
  "kernelspec": {
   "display_name": "Python 3 (ipykernel)",
   "language": "python",
   "name": "python3"
  },
  "language_info": {
   "codemirror_mode": {
    "name": "ipython",
    "version": 3
   },
   "file_extension": ".py",
   "mimetype": "text/x-python",
   "name": "python",
   "nbconvert_exporter": "python",
   "pygments_lexer": "ipython3",
   "version": "3.10.7"
  },
  "toc": {
   "base_numbering": 1,
   "nav_menu": {},
   "number_sections": true,
   "sideBar": true,
   "skip_h1_title": false,
   "title_cell": "Table of Contents",
   "title_sidebar": "Contents",
   "toc_cell": false,
   "toc_position": {},
   "toc_section_display": true,
   "toc_window_display": false
  },
  "varInspector": {
   "cols": {
    "lenName": 16,
    "lenType": 16,
    "lenVar": 40
   },
   "kernels_config": {
    "python": {
     "delete_cmd_postfix": "",
     "delete_cmd_prefix": "del ",
     "library": "var_list.py",
     "varRefreshCmd": "print(var_dic_list())"
    },
    "r": {
     "delete_cmd_postfix": ") ",
     "delete_cmd_prefix": "rm(",
     "library": "var_list.r",
     "varRefreshCmd": "cat(var_dic_list()) "
    }
   },
   "types_to_exclude": [
    "module",
    "function",
    "builtin_function_or_method",
    "instance",
    "_Feature"
   ],
   "window_display": false
  }
 },
 "nbformat": 4,
 "nbformat_minor": 5
}
